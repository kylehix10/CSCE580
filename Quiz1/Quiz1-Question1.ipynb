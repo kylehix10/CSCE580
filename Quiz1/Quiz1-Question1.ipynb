{
 "cells": [
  {
   "cell_type": "code",
   "execution_count": null,
   "id": "4256d4bc",
   "metadata": {},
   "outputs": [],
   "source": [
    "#Question 1\n",
    "# A) \n",
    "# * Open data is data that can be freely accessed by others.\n",
    "# * When buying a house, the data from that purchase is accessible to the public. \n",
    "# B.1) \n",
    "# * Data could be missing because of some sort of system malfunction or due to humans not inputting the data.\n",
    "# B.2) 2 Ways to Proceed with Missing Data\n",
    "# * Humans could input the missing data with the an average\n",
    "#     Risk: Could distort the true data. Misrepresentation\n",
    "# * Delete the entire entry. \n",
    "#     Risk: Reducing the size of the data set. Alters overall data.\n"
   ]
  }
 ],
 "metadata": {
  "language_info": {
   "name": "python"
  }
 },
 "nbformat": 4,
 "nbformat_minor": 5
}
