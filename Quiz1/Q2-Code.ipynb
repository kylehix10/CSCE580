{
 "cells": [
  {
   "cell_type": "markdown",
   "id": "ef1a9aa3",
   "metadata": {},
   "source": [
    "Kyle Hix Quiz 1"
   ]
  },
  {
   "cell_type": "code",
   "execution_count": null,
   "id": "1d7bb203",
   "metadata": {},
   "outputs": [],
   "source": [
    "import os\n",
    "import re\n",
    "import requests\n",
    "from collections import Counter\n",
    "from docx import Document\n",
    "import PyPDF2\n",
    "import matplotlib.pyplot as plt"
   ]
  },
  {
   "cell_type": "code",
   "execution_count": null,
   "id": "15b7e5c1",
   "metadata": {},
   "outputs": [],
   "source": [
    "\n",
    "def read_txt(file_path):\n",
    "    with open(file_path, \"r\", encoding=\"utf-8\") as f:\n",
    "        return f.read()\n",
    "\n",
    "def read_docx(file_path):\n",
    "    doc = Document(file_path)\n",
    "    return \"\\n\".join([para.text for para in doc.paragraphs])\n",
    "\n",
    "def read_pdf(file_path):\n",
    "    text = \"\"\n",
    "    with open(file_path, \"rb\") as f:\n",
    "        reader = PyPDF2.PdfReader(f)\n",
    "        for page in reader.pages:\n",
    "            page_text = page.extract_text()\n",
    "            if page_text:\n",
    "                text += page_text + \"\\n\"\n",
    "    return text\n",
    "\n",
    "def load_resume(file_path):\n",
    "    ext = os.path.splitext(file_path)[1].lower()\n",
    "    if ext == \".txt\":\n",
    "        return read_txt(file_path)\n",
    "    elif ext == \".docx\":\n",
    "        return read_docx(file_path)\n",
    "    elif ext == \".pdf\":\n",
    "        return read_pdf(file_path)\n",
    "    else:\n",
    "        raise ValueError(\"Unsupported file format. Use .txt, .docx, or .pdf\")\n",
    "\n",
    "def extract_words(text):\n",
    "    return re.findall(r\"\\b[a-zA-Z]+\\b\", text.lower())\n"
   ]
  },
  {
   "cell_type": "code",
   "execution_count": null,
   "id": "2cca4cc1",
   "metadata": {},
   "outputs": [],
   "source": [
    "file_path = \"KyleHixResume.pdf\"\n",
    "\n",
    "resume_text = load_resume(file_path)\n",
    "resume_words = extract_words(resume_text)\n",
    "\n",
    "print(\"Total resume words:\", len(resume_words))\n",
    "print(\"Unique resume words:\", len(set(resume_words)))\n",
    "\n",
    "top_resume_words = Counter(resume_words).most_common(20)\n",
    "labels, counts = zip(*top_resume_words)\n",
    "\n",
    "plt.figure(figsize=(12,6))\n",
    "plt.bar(labels, counts)\n",
    "plt.xticks(rotation=45)\n",
    "plt.xlabel(\"Words\")\n",
    "plt.ylabel(\"Counts\")\n",
    "plt.title(\"Top 20 Resume Words\")\n",
    "plt.show()\n",
    "\n",
    "# Remove stopwords\n",
    "specific_words = [w for w in resume_words if w not in stop_words]\n",
    "\n",
    "print(\"Total specific words:\", len(specific_words))\n",
    "print(\"Unique specific words:\", len(set(specific_words)))\n",
    "\n",
    "top_specific_words = Counter(specific_words).most_common(20)\n",
    "labels, counts = zip(*top_specific_words)\n",
    "\n",
    "plt.figure(figsize=(12,6))\n",
    "plt.bar(labels, counts)\n",
    "plt.xticks(rotation=45)\n",
    "plt.xlabel(\"Words\")\n",
    "plt.ylabel(\"Counts\")\n",
    "plt.title(\"Top 20 Specific Resume Words (Stopwords Removed)\")\n",
    "plt.show()"
   ]
  },
  {
   "cell_type": "markdown",
   "id": "1adc1a3a",
   "metadata": {},
   "source": [
    "Analysis: The data provided after the stop words were removed is more meaningful. Removing the stop words gave me a better understanding of the major key words within my resume."
   ]
  },
  {
   "cell_type": "code",
   "execution_count": null,
   "id": "180a93b8",
   "metadata": {},
   "outputs": [],
   "source": [
    "\n",
    "\n",
    "resume_folder = \"./resumes\"\n",
    "\n",
    "resume_words_all = []\n",
    "for filename in os.listdir(resume_folder):\n",
    "    if filename.lower().endswith((\".pdf\", \".docx\", \".txt\")):\n",
    "        text = load_resume(os.path.join(resume_folder, filename))\n",
    "        resume_words_all.extend(extract_words(text))\n",
    "\n",
    "print(\"Total resume words (all resumes):\", len(resume_words_all))\n",
    "print(\"Unique resume words (all resumes):\", len(set(resume_words_all)))\n",
    "\n",
    "top_resume_words_all = Counter(resume_words_all).most_common(20)\n",
    "labels, counts = zip(*top_resume_words_all)\n",
    "\n",
    "plt.figure(figsize=(12,6))\n",
    "plt.bar(labels, counts)\n",
    "plt.xticks(rotation=45)\n",
    "plt.xlabel(\"Words\")\n",
    "plt.ylabel(\"Counts\")\n",
    "plt.title(\"Top 20 Resume Words (All Resumes)\")\n",
    "plt.show()\n",
    "\n",
    "\n",
    "specific_words_all = [w for w in resume_words_all if w not in stop_words]\n",
    "\n",
    "print(\"Total specific words (all resumes):\", len(specific_words_all))\n",
    "print(\"Unique specific words (all resumes):\", len(set(specific_words_all)))\n",
    "\n",
    "top_specific_words_all = Counter(specific_words_all).most_common(20)\n",
    "labels, counts = zip(*top_specific_words_all)\n",
    "\n",
    "plt.figure(figsize=(12,6))\n",
    "plt.bar(labels, counts)\n",
    "plt.xticks(rotation=45)\n",
    "plt.xlabel(\"Words\")\n",
    "plt.ylabel(\"Counts\")\n",
    "plt.title(\"Top 20 Specific Resume Words (All Resumes, Stopwords Removed)\")\n",
    "plt.show()\n"
   ]
  },
  {
   "cell_type": "markdown",
   "id": "7c5d5cd1",
   "metadata": {},
   "source": [
    "Analysis: Removing the stop words from the class set was just as helpful removing them from my resume."
   ]
  },
  {
   "cell_type": "markdown",
   "id": "29f0aec6",
   "metadata": {},
   "source": [
    "Task 3: \n",
    "There isn't much difference between my resume and my classmates, which is a little concerning. I would like to stand out more. \n",
    "\n",
    "Words like student, leader, and track are unique to me. This is probably because of my time as a classroom teacher. I also have more instances of programming languages listed on my resume compared to my classmates."
   ]
  }
 ],
 "metadata": {
  "language_info": {
   "name": "python"
  }
 },
 "nbformat": 4,
 "nbformat_minor": 5
}
