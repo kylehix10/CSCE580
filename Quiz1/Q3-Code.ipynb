{
 "cells": [
  {
   "cell_type": "markdown",
   "id": "edeed3e2",
   "metadata": {},
   "source": [
    "Kyle Hix Question 3\n",
    "GenAI was used only to produce code\n",
    " - I have not coded in python prior to this course and needed assistance to complete the quiz. Providing full disclosure as per syllabus."
   ]
  },
  {
   "cell_type": "markdown",
   "id": "925f3b2c",
   "metadata": {},
   "source": [
    "A)"
   ]
  },
  {
   "cell_type": "code",
   "execution_count": null,
   "id": "775628ea",
   "metadata": {
    "vscode": {
     "languageId": "plaintext"
    }
   },
   "outputs": [],
   "source": [
    "import pandas as pd\n",
    "\n",
    "# Load the CSV file\n",
    "file_path = \"/content/Redacted-Department _ CAD Reconciliation.csv\"  # replace with your actual file\n",
    "\n",
    "# Read the CSV into a DataFrame\n",
    "df = pd.read_csv(file_path)\n",
    "\n",
    "# Count number of rows\n",
    "row_count = len(df)\n",
    "\n",
    "print(f\"Number of rows: {row_count}\")"
   ]
  },
  {
   "cell_type": "markdown",
   "id": "ff97dc67",
   "metadata": {},
   "source": [
    "a.1)The range is 2200 cases."
   ]
  },
  {
   "cell_type": "code",
   "execution_count": null,
   "id": "0b64f568",
   "metadata": {},
   "outputs": [],
   "source": [
    "missing_percent = df.isnull().mean() * 100\n",
    "\n",
    "print(\"Percentage of missing data per column:\")\n",
    "print(missing_percent)"
   ]
  },
  {
   "cell_type": "markdown",
   "id": "ba08dc89",
   "metadata": {},
   "source": [
    "a.2) Percentage of missing data per column:\n",
    "XREF ID                   0.000000\n",
    "DISPATCH UNIT             0.000000\n",
    "DISPATCH CREATED DATE     0.000000\n",
    "INCIDENT NUMBER           0.000000\n",
    "1ST UNIT ON SCENE        19.454545\n",
    "ALARM DATE TIME           1.409091\n",
    "CALL COMPLETE             1.409091\n",
    "SHIFT                     3.136364"
   ]
  },
  {
   "cell_type": "markdown",
   "id": "d9dbfae9",
   "metadata": {},
   "source": [
    "a.3) One issue with the data is that the missing entries can't be filled in. For instance, the column 1st Unit on Scene. There is no mean to fill in the void. A solution would be to list all dispatch units, list the mode, or to remove that column entirely."
   ]
  },
  {
   "cell_type": "code",
   "execution_count": null,
   "id": "0826ca88",
   "metadata": {},
   "outputs": [],
   "source": [
    "\n",
    "if \"ID\" not in df.columns:\n",
    "    df.insert(0, \"ID\", range(1, len(df) + 1))\n",
    "\n",
    "for col in df.select_dtypes(include=[\"float64\", \"int64\"]).columns:\n",
    "    df[col].fillna(df[col].median(), inplace=True)\n",
    "\n",
    "for col in df.select_dtypes(include=[\"object\"]).columns:\n",
    "    if df[col].isnull().any():\n",
    "        df[col].fillna(df[col].mode()[0], inplace=True)\n",
    "\n",
    "df.drop_duplicates(inplace=True)\n",
    "\n",
    "missing_percent = df.isnull().mean() * 100\n",
    "print(\"Remaining missing data (%):\")\n",
    "print(missing_percent)\n",
    "\n",
    "df.to_csv(\"cleaned_file.csv\", index=False)\n"
   ]
  },
  {
   "cell_type": "markdown",
   "id": "2ab9db83",
   "metadata": {},
   "source": [
    "a.3) The empty categorical data was filled in with the mode, while numerical data was filled in with the mean."
   ]
  },
  {
   "cell_type": "markdown",
   "id": "aa6af115",
   "metadata": {},
   "source": [
    "B."
   ]
  },
  {
   "cell_type": "code",
   "execution_count": null,
   "id": "bcee0525",
   "metadata": {},
   "outputs": [],
   "source": [
    "df['DISPATCH CREATED DATE'] = pd.to_datetime(df['DISPATCH CREATED DATE'], errors=\"coerce\", infer_datetime_format=True)\n",
    "df['CALL COMPLETE'] = pd.to_datetime(df['CALL COMPLETE'],  errors=\"coerce\", infer_datetime_format=True)\n",
    "\n",
    "df['duration'] = df['CALL COMPLETE'] - df['DISPATCH CREATED DATE']\n",
    "\n",
    "average_duration = df['duration'].mean()\n",
    "\n",
    "print(\"Average time between start and stop:\", average_duration)"
   ]
  },
  {
   "cell_type": "markdown",
   "id": "18167098",
   "metadata": {},
   "source": [
    "Average resolution time: 90 days 07:23:52.39"
   ]
  },
  {
   "cell_type": "code",
   "execution_count": null,
   "id": "8768eaac",
   "metadata": {},
   "outputs": [],
   "source": [
    "df['unit_count'] = df['DISPATCH UNIT'].apply(\n",
    "    lambda x: len(str(x).split(',')) if pd.notnull(x) else 0\n",
    ")\n",
    "\n",
    "avg_units_per_case = df.groupby('INCIDENT NUMBER')['unit_count'].mean().mean()\n",
    "\n",
    "print(\"Average dispatch units per case:\", avg_units_per_case)"
   ]
  },
  {
   "cell_type": "markdown",
   "id": "307bbffa",
   "metadata": {},
   "source": [
    "b.2) On average, 1.44 units are sent. So between one and two units."
   ]
  },
  {
   "cell_type": "code",
   "execution_count": null,
   "id": "5fa512ef",
   "metadata": {},
   "outputs": [],
   "source": [
    "most_common_shift = df['SHIFT'].value_counts().idxmax()\n",
    "shift_counts = df['SHIFT'].value_counts()\n",
    "\n",
    "print(\"Most common shift:\", most_common_shift)\n",
    "print(\"\\nShift frequency counts:\")\n",
    "print(shift_counts)"
   ]
  },
  {
   "cell_type": "markdown",
   "id": "b7be5859",
   "metadata": {},
   "source": [
    "b.3) Shift A appears the most."
   ]
  },
  {
   "cell_type": "code",
   "execution_count": null,
   "id": "a4386947",
   "metadata": {},
   "outputs": [],
   "source": [
    "df['ALARM DATE TIME'] = pd.to_datetime(df['ALARM DATE TIME'], errors=\"coerce\", infer_datetime_format=True)\n",
    "\n",
    "df['DayOfWeek'] = df['ALARM DATE TIME'].dt.day_name()\n",
    "df['Hour'] = df['ALARM DATE TIME'].dt.hour\n",
    "\n",
    "matrix = pd.pivot_table(\n",
    "    df,\n",
    "    index='Hour',\n",
    "    columns='DayOfWeek',\n",
    "    values='INCIDENT NUMBER',\n",
    "    aggfunc='count',\n",
    "    fill_value=0\n",
    ")\n",
    "\n",
    "days_order = [\"Monday\", \"Tuesday\", \"Wednesday\", \"Thursday\", \"Friday\", \"Saturday\", \"Sunday\"]\n",
    "matrix = matrix.reindex(columns=days_order)\n",
    "\n",
    "matrix['Total'] = matrix.sum(axis=1)\n",
    "matrix.loc['Total'] = matrix.sum(axis=0)\n",
    "\n",
    "\n",
    "print(matrix)"
   ]
  },
  {
   "cell_type": "markdown",
   "id": "0dd4cb3b",
   "metadata": {},
   "source": [
    "C."
   ]
  },
  {
   "cell_type": "code",
   "execution_count": null,
   "id": "8ae8c605",
   "metadata": {},
   "outputs": [],
   "source": [
    "from sklearn.cluster import KMeans, AgglomerativeClustering\n",
    "from sklearn.preprocessing import StandardScaler\n",
    "from sklearn.metrics import silhouette_score, davies_bouldin_score\n",
    "\n",
    "\n",
    "df['ALARM DATE TIME'] = pd.to_datetime(df['ALARM DATE TIME'], errors=\"coerce\")\n",
    "\n",
    "\n",
    "df['Hour'] = df['ALARM DATE TIME'].dt.hour\n",
    "df['DayOfWeek'] = df['ALARM DATE TIME'].dt.dayofweek  \n",
    "df['unit_count'] = df['DISPATCH UNIT'].apply(lambda x: len(str(x).split(',')) if pd.notnull(x) else 0)\n",
    "\n",
    "\n",
    "X = df[['Hour', 'DayOfWeek', 'unit_count']]\n",
    "\n",
    "\n",
    "scaler = StandardScaler()\n",
    "X_scaled = scaler.fit_transform(X)\n",
    "\n",
    "\n",
    "kmeans = KMeans(n_clusters=3, random_state=42)\n",
    "kmeans_labels = kmeans.fit_predict(X_scaled)\n",
    "\n",
    "\n",
    "agg = AgglomerativeClustering(n_clusters=3)\n",
    "agg_labels = agg.fit_predict(X_scaled)\n",
    "\n",
    "\n",
    "kmeans_sil = silhouette_score(X_scaled, kmeans_labels)\n",
    "kmeans_dbi = davies_bouldin_score(X_scaled, kmeans_labels)\n",
    "\n",
    "agg_sil = silhouette_score(X_scaled, agg_labels)\n",
    "agg_dbi = davies_bouldin_score(X_scaled, agg_labels)\n",
    "\n",
    "print(\"KMeans -> Silhouette:\", kmeans_sil, \" DBI:\", kmeans_dbi)\n",
    "print(\"Agglomerative -> Silhouette:\", agg_sil, \" DBI:\", agg_dbi)\n",
    "\n",
    "\n",
    "if kmeans_sil > agg_sil and kmeans_dbi < agg_dbi:\n",
    "    print(\"KMeans performs better overall.\")\n",
    "else:\n",
    "    print(\"Agglomerative performs better overall.\")\n"
   ]
  },
  {
   "cell_type": "markdown",
   "id": "dbba12d3",
   "metadata": {},
   "source": [
    "C.1) KMeans performs better overall"
   ]
  }
 ],
 "metadata": {
  "language_info": {
   "name": "python"
  }
 },
 "nbformat": 4,
 "nbformat_minor": 5
}
